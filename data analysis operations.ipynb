{
 "cells": [
  {
   "cell_type": "code",
   "execution_count": 2,
   "metadata": {},
   "outputs": [
    {
     "name": "stdout",
     "output_type": "stream",
     "text": [
      "   Bounce Rate  Day  Visitors\n",
      "0           20    1      1000\n",
      "1           20    2      7000\n",
      "2           23    3      6000\n",
      "3           15    4      1000\n",
      "4           10    5       400\n",
      "5           34    6       350\n"
     ]
    }
   ],
   "source": [
    "import pandas as pd\n",
    "\n",
    "XYZ_web = {'Day': [1,2,3,4,5,6], \n",
    "           \"Visitors\": [1000,7000,6000,1000,400,350],\n",
    "           \"Bounce Rate\": [20,20,23,15,10,34]}\n",
    "\n",
    "df = pd.DataFrame(XYZ_web)\n",
    "print(df)"
   ]
  },
  {
   "cell_type": "code",
   "execution_count": 3,
   "metadata": {},
   "outputs": [
    {
     "name": "stdout",
     "output_type": "stream",
     "text": [
      "   Bounce Rate  Day  Visitors\n",
      "0           20    1      1000\n",
      "1           20    2      7000\n"
     ]
    }
   ],
   "source": [
    "print(df.head(2))"
   ]
  },
  {
   "cell_type": "code",
   "execution_count": 4,
   "metadata": {},
   "outputs": [
    {
     "name": "stdout",
     "output_type": "stream",
     "text": [
      "   Bounce Rate  Day  Visitors\n",
      "4           10    5       400\n",
      "5           34    6       350\n"
     ]
    }
   ],
   "source": [
    "print(df.tail(2))"
   ]
  },
  {
   "cell_type": "code",
   "execution_count": 5,
   "metadata": {},
   "outputs": [
    {
     "name": "stdout",
     "output_type": "stream",
     "text": [
      "   HPI  IND_GDP  Int rate\n",
      "0   80       50         2\n",
      "1   90       45         1\n",
      "2   70       45         2\n",
      "3   60       67         3\n"
     ]
    }
   ],
   "source": [
    "df1 = pd.DataFrame({\"HPI\": [80,90,70,60],\n",
    "                   \"Int rate\": [2,1,2,3],\n",
    "                   \"IND_GDP\": [50,45,45,67]},\n",
    "                  index = [2001,2002,2003,2004])\n",
    "\n",
    "df2 = pd.DataFrame({\"HPI\": [80,90,70,60],\n",
    "                   \"Int rate\": [2,1,2,3],\n",
    "                   \"IND_GDP\": [50,45,45,67]},\n",
    "                  index = [2005,2006,2007,2008])\n",
    "\n",
    "merge = pd.merge(df1,df2)\n",
    "print(merge)"
   ]
  },
  {
   "cell_type": "code",
   "execution_count": 6,
   "metadata": {},
   "outputs": [
    {
     "name": "stdout",
     "output_type": "stream",
     "text": [
      "   HPI  IND_GDP_x  Int rate_x  IND_GDP_y  Int rate_y\n",
      "0   80         50           2         50           2\n",
      "1   90         45           1         45           1\n",
      "2   70         45           2         45           2\n",
      "3   60         67           3         67           3\n"
     ]
    }
   ],
   "source": [
    "merge = pd.merge(df1,df2, on = \"HPI\")\n",
    "print(merge)"
   ]
  },
  {
   "cell_type": "code",
   "execution_count": 10,
   "metadata": {},
   "outputs": [
    {
     "name": "stdout",
     "output_type": "stream",
     "text": [
      "      IND_GDP  Int rate  Low_Tier_HPI  Unemployment\n",
      "2001       50         2          50.0           1.0\n",
      "2002       45         1           NaN           NaN\n",
      "2003       45         2          45.0           3.0\n",
      "2004       67         3          67.0           5.0\n"
     ]
    }
   ],
   "source": [
    "df1 = pd.DataFrame({\"Int rate\": [2,1,2,3],\n",
    "                   \"IND_GDP\": [50,45,45,67]},\n",
    "                  index = [2001,2002,2003,2004])\n",
    "\n",
    "df2 = pd.DataFrame({\"Low_Tier_HPI\": [50,45,67,34],\n",
    "                   \"Unemployment\": [1,3,5,6]},\n",
    "                  index = [2001,2003,2004,2005])\n",
    "\n",
    "joined = df1.join(df2)\n",
    "print(joined)"
   ]
  },
  {
   "cell_type": "code",
   "execution_count": 11,
   "metadata": {},
   "outputs": [
    {
     "name": "stdout",
     "output_type": "stream",
     "text": [
      "   Bounce Rate  Day  Visitors\n",
      "0           20    1       200\n",
      "1           45    2       100\n",
      "2           60    3       230\n",
      "3           10    4       300\n"
     ]
    }
   ],
   "source": [
    "df = pd.DataFrame({\"Day\": [1,2,3,4],\n",
    "     \"Visitors\": [200,100,230,300],\n",
    "     \"Bounce Rate\": [20,45,60,10]})\n",
    "print(df)"
   ]
  },
  {
   "cell_type": "code",
   "execution_count": 13,
   "metadata": {},
   "outputs": [
    {
     "name": "stdout",
     "output_type": "stream",
     "text": [
      "     Bounce Rate  Visitors\n",
      "Day                       \n",
      "1             20       200\n",
      "2             45       100\n",
      "3             60       230\n",
      "4             10       300\n"
     ]
    }
   ],
   "source": [
    "df.set_index(\"Day\", inplace=True)\n",
    "print(df)"
   ]
  },
  {
   "cell_type": "code",
   "execution_count": 15,
   "metadata": {},
   "outputs": [
    {
     "data": {
      "image/png": "[encoded data removed]",
      "text/plain": [
       "<matplotlib.figure.Figure at 0x1d74c274c50>"
      ]
     },
     "metadata": {},
     "output_type": "display_data"
    }
   ],
   "source": [
    "import matplotlib.pyplot as plt\n",
    "from matplotlib import style\n",
    "style.use(\"fivethirtyeight\")\n",
    "\n",
    "df.plot()\n",
    "plt.show()"
   ]
  },
  {
   "cell_type": "code",
   "execution_count": 16,
   "metadata": {},
   "outputs": [],
   "source": [
    "df = df.rename(columns={\"Visitors\":\"Users\"})"
   ]
  },
  {
   "cell_type": "code",
   "execution_count": 17,
   "metadata": {},
   "outputs": [
    {
     "name": "stdout",
     "output_type": "stream",
     "text": [
      "     Bounce Rate  Users\n",
      "Day                    \n",
      "1             20    200\n",
      "2             45    100\n",
      "3             60    230\n",
      "4             10    300\n"
     ]
    }
   ],
   "source": [
    "print(df)"
   ]
  },
  {
   "cell_type": "code",
   "execution_count": 18,
   "metadata": {},
   "outputs": [
    {
     "name": "stdout",
     "output_type": "stream",
     "text": [
      "      HPI  IND_GDP  Int rate\n",
      "2001   80       50         2\n",
      "2002   90       45         1\n",
      "2003   70       45         2\n",
      "2004   60       67         3\n",
      "2005   80       50         2\n",
      "2006   90       45         1\n",
      "2007   70       45         2\n",
      "2008   60       67         3\n"
     ]
    }
   ],
   "source": [
    "df1 = pd.DataFrame({\"HPI\": [80,90,70,60],\n",
    "                   \"Int rate\": [2,1,2,3],\n",
    "                   \"IND_GDP\": [50,45,45,67]},\n",
    "                  index = [2001,2002,2003,2004])\n",
    "\n",
    "df2 = pd.DataFrame({\"HPI\": [80,90,70,60],\n",
    "                   \"Int rate\": [2,1,2,3],\n",
    "                   \"IND_GDP\": [50,45,45,67]},\n",
    "                  index = [2005,2006,2007,2008])\n",
    "\n",
    "Concat = pd.concat([df1,df2]) \n",
    "print(Concat)"
   ]
  },
  {
   "cell_type": "code",
   "execution_count": 19,
   "metadata": {},
   "outputs": [
    {
     "name": "stdout",
     "output_type": "stream",
     "text": [
      "2.3333333333333335\n"
     ]
    }
   ],
   "source": [
    "from statistics import mean\n",
    "\n",
    "print(mean([1,2,2,2,1,3,4,1,5]))"
   ]
  },
  {
   "cell_type": "code",
   "execution_count": 27,
   "metadata": {},
   "outputs": [
    {
     "name": "stdout",
     "output_type": "stream",
     "text": [
      "2\n"
     ]
    }
   ],
   "source": [
    "from statistics import median \n",
    "\n",
    "print(median([1,1,2,3,4]))"
   ]
  },
  {
   "cell_type": "code",
   "execution_count": 24,
   "metadata": {},
   "outputs": [
    {
     "name": "stdout",
     "output_type": "stream",
     "text": [
      "1\n"
     ]
    }
   ],
   "source": [
    "from statistics import mode\n",
    "\n",
    "print(mode([1,1,4,5,6]))"
   ]
  },
  {
   "cell_type": "code",
   "execution_count": 25,
   "metadata": {},
   "outputs": [
    {
     "name": "stdout",
     "output_type": "stream",
     "text": [
      "0.3\n"
     ]
    }
   ],
   "source": [
    "from statistics import variance\n",
    "\n",
    "print(variance([1,1,2,2,2]))"
   ]
  },
  {
   "cell_type": "code",
   "execution_count": null,
   "metadata": {},
   "outputs": [],
   "source": []
  }
 ],
 "metadata": {
  "kernelspec": {
   "display_name": "Python 3",
   "language": "python",
   "name": "python3"
  },
  "language_info": {
   "codemirror_mode": {
    "name": "ipython",
    "version": 3
   },
   "file_extension": ".py",
   "mimetype": "text/x-python",
   "name": "python",
   "nbconvert_exporter": "python",
   "pygments_lexer": "ipython3",
   "version": "3.6.4"
  }
 },
 "nbformat": 4,
 "nbformat_minor": 2
}
